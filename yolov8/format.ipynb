{
 "cells": [
  {
   "cell_type": "code",
   "execution_count": null,
   "id": "7d62b4e2",
   "metadata": {},
   "outputs": [],
   "source": [
    "import os\n",
    "from PIL import Image\n",
    "\n",
    "root = r\"D:\\python\\crawl\\stop check traffic sign\"\n",
    "for fname in os.listdir(root):\n",
    "    path = os.path.join(root, fname)\n",
    "    try:\n",
    "        img = Image.open(path)\n",
    "        if img.format == \"GIF\":  # 发现是GIF\n",
    "            new_path = path.replace(\".jpg\", \".jpg\")  # 强制覆盖\n",
    "            img.convert(\"RGB\").save(new_path, \"JPEG\")\n",
    "            print(f\"Converted {fname} -> JPG\")\n",
    "    except Exception as e:\n",
    "        print(f\"Error {fname}: {e}\")\n"
   ]
  }
 ],
 "metadata": {
  "kernelspec": {
   "display_name": "yolo",
   "language": "python",
   "name": "python3"
  },
  "language_info": {
   "codemirror_mode": {
    "name": "ipython",
    "version": 3
   },
   "file_extension": ".py",
   "mimetype": "text/x-python",
   "name": "python",
   "nbconvert_exporter": "python",
   "pygments_lexer": "ipython3",
   "version": "3.13.5"
  }
 },
 "nbformat": 4,
 "nbformat_minor": 5
}
