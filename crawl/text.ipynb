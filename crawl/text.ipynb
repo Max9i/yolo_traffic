{
 "cells": [
  {
   "cell_type": "code",
   "execution_count": null,
   "id": "8b31ef87",
   "metadata": {},
   "outputs": [
    {
     "name": "stdout",
     "output_type": "stream",
     "text": [
      "所有txt文件的类别编号已修改完成！\n"
     ]
    }
   ],
   "source": [
    "import os\n",
    "\n",
    "# 标注文件所在的文件夹路径\n",
    "folder = r\"D:\\python\\crawl\\stop-police labels\"\n",
    "\n",
    "for filename in os.listdir(folder):\n",
    "    if filename.endswith(\".txt\"):\n",
    "        filepath = os.path.join(folder, filename)\n",
    "\n",
    "        # 读取内容\n",
    "        with open(filepath, \"r\") as f:\n",
    "            lines = f.readlines()\n",
    "\n",
    "        new_lines = []\n",
    "        for line in lines:\n",
    "            parts = line.strip().split()\n",
    "            if len(parts) > 0:\n",
    "                # 数字替换\n",
    "                parts[0] = \"57\"\n",
    "                new_lines.append(\" \".join(parts) + \"\\n\")\n",
    "\n",
    "        # 覆盖写回\n",
    "        with open(filepath, \"w\") as f:\n",
    "            f.writelines(new_lines)\n",
    "\n",
    "print(\"所有txt文件的类别编号已修改完成！\")\n"
   ]
  }
 ],
 "metadata": {
  "kernelspec": {
   "display_name": "base",
   "language": "python",
   "name": "python3"
  },
  "language_info": {
   "codemirror_mode": {
    "name": "ipython",
    "version": 3
   },
   "file_extension": ".py",
   "mimetype": "text/x-python",
   "name": "python",
   "nbconvert_exporter": "python",
   "pygments_lexer": "ipython3",
   "version": "3.13.5"
  }
 },
 "nbformat": 4,
 "nbformat_minor": 5
}
